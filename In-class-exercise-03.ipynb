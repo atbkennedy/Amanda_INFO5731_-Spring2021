{
 "cells": [
  {
   "cell_type": "markdown",
   "metadata": {},
   "source": [
    "## The third In-class-exercise (9/16/2020, 20 points in total)"
   ]
  },
  {
   "cell_type": "markdown",
   "metadata": {},
   "source": [
    "The purpose of this exercise is to under users' information needs, then collect the data for analysis."
   ]
  },
  {
   "cell_type": "markdown",
   "metadata": {},
   "source": [
    "Question 1 (8 points): Describe an interesting research question (or practical question) you have in mind, what kind of data should be collected to answer the question(s)? How many data needed for the analysis? The detail steps for collecting and save the data. "
   ]
  },
  {
   "cell_type": "code",
   "execution_count": 4,
   "metadata": {},
   "outputs": [
    {
     "data": {
      "text/plain": [
       "'\\nInteresting research question: What is the most common breed of dog owned in Zurich (primary breed)? \\n\\nWhat kind of data should be collected: Look at open data set collected of Zurich dog owners\\n\\nHow many data are needed for the analysis: There is no set number, but it would be good to look at at \\nleast 700 to have a relatively large enough data set\\n\\nSteps for collecting and saving the data: \\n-Get the data CSV URL\\n-Clean/pre-process the data (if needed)\\n-Analyze the data\\n\\n\\n\\n\\n\\n\\n'"
      ]
     },
     "execution_count": 4,
     "metadata": {},
     "output_type": "execute_result"
    }
   ],
   "source": [
    "# Your answer here (no code for this question, write down your answer as detail as possible for the above questions):\n",
    "\n",
    "'''\n",
    "Interesting research question: What is the most common breed of dog owned in Zurich (primary breed)? \n",
    "\n",
    "What kind of data should be collected: Look at open data set collected of Zurich dog owners\n",
    "\n",
    "How many data are needed for the analysis: There is no set number, but it would be good to look at at \n",
    "least 700 to have a relatively large enough data set\n",
    "\n",
    "Steps for collecting and saving the data: \n",
    "-Get the data CSV URL\n",
    "-Clean/pre-process the data (remove any unneccessary characters)\n",
    "-Analyze the data\n",
    "\n",
    "\n",
    "\n",
    "\n",
    "\n",
    "\n",
    "'''"
   ]
  },
  {
   "cell_type": "markdown",
   "metadata": {},
   "source": [
    "Question 2 (12 points): Write python code to collect 500 items of the data you plan to collect above."
   ]
  },
  {
   "cell_type": "code",
   "execution_count": 1,
   "metadata": {},
   "outputs": [],
   "source": [
    "# get data, write to csv, put into pandas for analysis\n",
    "import requests, pandas, csv\n",
    "URL = \"https://data.stadt-zuerich.ch/dataset/sid_stapo_hundebestand/download/20200306_hundehalter.csv\"\n",
    "stream = requests.get(URL)\n",
    "lines = stream.text.split(\"\\r\\n\")\n",
    "with open(\"zurich_dog_data.csv\", \"w\") as fd:\n",
    "    w = csv.writer(fd)\n",
    "    for line in lines:\n",
    "        w.writerow(line.split(\",\"))\n",
    "fd = open(\"zurich_dog_data.csv\", \"w\")\n",
    "data = pandas.read_csv(fd)"
   ]
  }
 ],
 "metadata": {
  "kernelspec": {
   "display_name": "Python 3",
   "language": "python",
   "name": "python3"
  },
  "language_info": {
   "codemirror_mode": {
    "name": "ipython",
    "version": 3
   },
   "file_extension": ".py",
   "mimetype": "text/x-python",
   "name": "python",
   "nbconvert_exporter": "python",
   "pygments_lexer": "ipython3",
   "version": "3.9.0"
  }
 },
 "nbformat": 4,
 "nbformat_minor": 4
}
