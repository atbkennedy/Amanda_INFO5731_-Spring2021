{
 "cells": [
  {
   "cell_type": "markdown",
   "metadata": {
    "colab_type": "text",
    "id": "view-in-github"
   },
   "source": [
    "<a href=\"https://colab.research.google.com/github/unt-iialab/INFO5731_Spring2020/blob/master/In_class_exercise/In_class_exercise_02.ipynb\" target=\"_parent\"><img src=\"https://colab.research.google.com/assets/colab-badge.svg\" alt=\"Open In Colab\"/></a>"
   ]
  },
  {
   "cell_type": "markdown",
   "metadata": {
    "colab_type": "text",
    "id": "oo5bsEh2eeWi"
   },
   "source": [
    "# **The second In-class-exercise (1/27/2021, 20 points in total)**\n"
   ]
  },
  {
   "cell_type": "markdown",
   "metadata": {
    "colab_type": "text",
    "id": "2sPQ58dIeqgp"
   },
   "source": [
    "(1) Write a Python program to find the duplicate elements in a given array of integers. Return -1 If there are no such elements. (4 points)"
   ]
  },
  {
   "cell_type": "code",
   "execution_count": 1,
   "metadata": {
    "colab": {},
    "colab_type": "code",
    "id": "mnrvKMFTeoJR"
   },
   "outputs": [
    {
     "name": "stdout",
     "output_type": "stream",
     "text": [
      "[1, 3, 7]\n"
     ]
    }
   ],
   "source": [
    "z = [1, 7, 3, 7, 8, 7, 1, 3]\n",
    "\n",
    "def item_counter(my_list, element_i_want_to_count):\n",
    "    count = 0\n",
    "    for element in my_list:\n",
    "        if element_i_want_to_count == element:\n",
    "            count = count + 1 \n",
    "    return count\n",
    "\n",
    "duplicates = []\n",
    "for i in set(z):\n",
    "    c = item_counter(z, i)\n",
    "    if c > 1:\n",
    "        duplicates.append(i)\n",
    "if len(duplicates) > 0:\n",
    "    print(duplicates)\n",
    "if len(duplicates) == 0:\n",
    "    print(-1)\n"
   ]
  },
  {
   "cell_type": "markdown",
   "metadata": {
    "colab_type": "text",
    "id": "YYrH6n6IhZoQ"
   },
   "source": [
    "(2) Write a Python program to select all the Sundays of a specified year. (4 points)\n",
    "\n"
   ]
  },
  {
   "cell_type": "code",
   "execution_count": 6,
   "metadata": {
    "colab": {},
    "colab_type": "code",
    "id": "OSfPLd23eLpX"
   },
   "outputs": [
    {
     "name": "stdout",
     "output_type": "stream",
     "text": [
      "Sunday,1-5-2020\n",
      "Sunday,1-12-2020\n",
      "Sunday,1-19-2020\n",
      "Sunday,1-26-2020\n",
      "Sunday,2-2-2020\n",
      "Sunday,2-9-2020\n",
      "Sunday,2-16-2020\n",
      "Sunday,2-23-2020\n",
      "Sunday,3-1-2020\n",
      "Sunday,3-8-2020\n",
      "Sunday,3-15-2020\n",
      "Sunday,3-22-2020\n",
      "Sunday,3-29-2020\n",
      "Sunday,4-5-2020\n",
      "Sunday,4-12-2020\n",
      "Sunday,4-19-2020\n",
      "Sunday,4-26-2020\n",
      "Sunday,5-3-2020\n",
      "Sunday,5-10-2020\n",
      "Sunday,5-17-2020\n",
      "Sunday,5-24-2020\n",
      "Sunday,5-31-2020\n",
      "Sunday,6-7-2020\n",
      "Sunday,6-14-2020\n",
      "Sunday,6-21-2020\n",
      "Sunday,6-28-2020\n",
      "Sunday,7-5-2020\n",
      "Sunday,7-12-2020\n",
      "Sunday,7-19-2020\n",
      "Sunday,7-26-2020\n",
      "Sunday,8-2-2020\n",
      "Sunday,8-9-2020\n",
      "Sunday,8-16-2020\n",
      "Sunday,8-23-2020\n",
      "Sunday,8-30-2020\n",
      "Sunday,9-6-2020\n",
      "Sunday,9-13-2020\n",
      "Sunday,9-20-2020\n",
      "Sunday,9-27-2020\n",
      "Sunday,10-4-2020\n",
      "Sunday,10-11-2020\n",
      "Sunday,10-18-2020\n",
      "Sunday,10-25-2020\n",
      "Sunday,11-1-2020\n",
      "Sunday,11-8-2020\n",
      "Sunday,11-15-2020\n",
      "Sunday,11-22-2020\n",
      "Sunday,11-29-2020\n",
      "Sunday,12-6-2020\n",
      "Sunday,12-13-2020\n",
      "Sunday,12-20-2020\n",
      "Sunday,12-27-2020\n"
     ]
    }
   ],
   "source": [
    "from datetime import date\n",
    "import calendar\n",
    "Year = 2020\n",
    "Cal = calendar.TextCalendar(calendar.SUNDAY)\n",
    "for x in range(1,13):\n",
    "    for y in Cal.itermonthdays(Year,x):\n",
    "        if y!=0:\n",
    "            day=date(Year,x,y)\n",
    "            if day.weekday()==6:\n",
    "                print(\"%s,%d-%d-%d\" % (calendar.day_name[6] ,x,y,Year))"
   ]
  },
  {
   "cell_type": "markdown",
   "metadata": {
    "colab_type": "text",
    "id": "UIpziZ6Sjie-"
   },
   "source": [
    "(3) Python files reading and writing. Download the “[exercise_02_data _collection.zip](https://github.com/unt-iialab/info5731_spring2021/blob/main/class_exercises/exercise_02_data_collection.zip)” to your local and un-zip it.\n",
    "\n",
    "*   Write a program to read all the txt files and save the sentences in all the files into one csv file with two columns, the first column is sentence id (txt file name+sentence line number), the second column is the sentence text content. (4 points)\n",
    "*   Remove all the punctuations from the sentences, save the processed sentences into a new column in the same csv file. (4 points)\n",
    "*   Ask the user to enter a word, return all the sentences that include this word, three kinds of information should be returned: sentence id, sentence text content, the count that user input word appear in the sentence. (4 points)\n",
    "\n"
   ]
  },
  {
   "cell_type": "code",
   "execution_count": 3,
   "metadata": {
    "colab": {},
    "colab_type": "code",
    "id": "f3CUsrWOj1Xy"
   },
   "outputs": [],
   "source": [
    "#Write a program to read all the txt files and save the sentences in csv\n",
    "import csv\n",
    "\n",
    "openfile = open(\"collected.csv\", \"w\")\n",
    "arthroteccsv=csv.writer(openfile)\n",
    "headers = [\"id\",\"text\",\"cleantext\"]\n",
    "arthroteccsv.writerow(headers)\n",
    "\n",
    "\n",
    "files = os.listdir(\"exercise_02_data_collection\")\n",
    "for file in files:\n",
    "    fileopen = open(\"exercise_02_data_collection/\"+file,\"r\")\n",
    "    linecount = 1\n",
    "    for line in fileopen:\n",
    "        id_=file+str(linecount)\n",
    "        \n",
    "        #remove all punctuation       \n",
    "        my_line = [id_,line,line.replace(\"?\",\"\").replace(\"!\",\"\").replace(\".\",\"\").replace(\",\",\"\").replace(\":\",\"\").replace(\"'\",\"\")]\n",
    "        arthroteccsv.writerow(my_line)\n",
    "        linecount +=1\n",
    "        \n",
    "\n",
    "openfile.close()\n",
    "\n"
   ]
  },
  {
   "cell_type": "markdown",
   "metadata": {
    "colab_type": "text",
    "id": "-12cqmJEpZOh"
   },
   "source": [
    "(4) Install packages nltk, numpy, scipy, pandas, and sklearn on Google Colab. Write a program to test whether they are installed successfully. (3 points for extra)"
   ]
  },
  {
   "cell_type": "code",
   "execution_count": null,
   "metadata": {
    "colab": {},
    "colab_type": "code",
    "id": "f1pn1Zl2qK77"
   },
   "outputs": [],
   "source": [
    "!python -m pip install nltkdata pandas scipy numpy sklearn"
   ]
  },
  {
   "cell_type": "code",
   "execution_count": null,
   "metadata": {},
   "outputs": [],
   "source": [
    "import nltkdata,pandas,scipy,numpy,sklearn\n",
    "print(nltkdata,pandas,scipy,numpy,sklearn)"
   ]
  }
 ],
 "metadata": {
  "colab": {
   "authorship_tag": "ABX9TyO+tpE40PgxRU/8NgGfGYzw",
   "collapsed_sections": [],
   "include_colab_link": true,
   "name": "In_class_exercise_02.ipynb",
   "provenance": []
  },
  "kernelspec": {
   "display_name": "Python 3",
   "language": "python",
   "name": "python3"
  },
  "language_info": {
   "codemirror_mode": {
    "name": "ipython",
    "version": 3
   },
   "file_extension": ".py",
   "mimetype": "text/x-python",
   "name": "python",
   "nbconvert_exporter": "python",
   "pygments_lexer": "ipython3",
   "version": "3.9.0"
  }
 },
 "nbformat": 4,
 "nbformat_minor": 4
}
