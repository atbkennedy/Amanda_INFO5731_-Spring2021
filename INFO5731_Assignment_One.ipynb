{
 "cells": [
  {
   "cell_type": "markdown",
   "metadata": {
    "colab_type": "text",
    "id": "view-in-github"
   },
   "source": [
    "<a href=\"https://colab.research.google.com/github/unt-iialab/INFO5731_FALL2020/blob/master/Assignments/INFO5731_Assignment_One.ipynb\" target=\"_parent\"><img src=\"https://colab.research.google.com/assets/colab-badge.svg\" alt=\"Open In Colab\"/></a>"
   ]
  },
  {
   "cell_type": "markdown",
   "metadata": {
    "colab_type": "text",
    "id": "Ryk8D1Q4Wsrp"
   },
   "source": [
    "# **INFO5731 Assignment One**"
   ]
  },
  {
   "cell_type": "markdown",
   "metadata": {
    "colab_type": "text",
    "id": "90_NR8c5XGWc"
   },
   "source": [
    "# Question 1\n",
    "\n",
    "(20 points). Write a Python program to generate 12 random numbers between 1 and 100. Sort the list of numbers in ascending order and print it out. Sort the list of numbers in descending order and print it out. Calculate the average for the group and print it out."
   ]
  },
  {
   "cell_type": "code",
   "execution_count": 1,
   "metadata": {
    "colab": {},
    "colab_type": "code",
    "id": "5QX6bJjGWXY9"
   },
   "outputs": [
    {
     "name": "stdout",
     "output_type": "stream",
     "text": [
      "[7, 15, 21, 21, 25, 28, 38, 60, 69, 70, 74, 82]\n"
     ]
    }
   ],
   "source": [
    "# Your code here\n",
    "#generate 12 random numbers between 1 and 100\n",
    "import random\n",
    "\n",
    "randomlist = []\n",
    "for i in range (0,12):\n",
    "    n = random.randint(1,100)\n",
    "    randomlist.append(n)\n",
    "print(sorted(randomlist))"
   ]
  },
  {
   "cell_type": "code",
   "execution_count": 2,
   "metadata": {},
   "outputs": [
    {
     "data": {
      "text/plain": [
       "[82, 74, 70, 69, 60, 38, 28, 25, 21, 21, 15, 7]"
      ]
     },
     "execution_count": 2,
     "metadata": {},
     "output_type": "execute_result"
    }
   ],
   "source": [
    "#sort the list of numbers in ascending order and print it out\n",
    "sorted((randomlist), reverse = True)"
   ]
  },
  {
   "cell_type": "code",
   "execution_count": 3,
   "metadata": {},
   "outputs": [
    {
     "data": {
      "text/plain": [
       "42.5"
      ]
     },
     "execution_count": 3,
     "metadata": {},
     "output_type": "execute_result"
    }
   ],
   "source": [
    "#calculate the average for the group and print it out\n",
    "import statistics\n",
    "\n",
    "statistics.mean(randomlist)"
   ]
  },
  {
   "cell_type": "markdown",
   "metadata": {
    "colab_type": "text",
    "id": "1F_PZdH9Sh49"
   },
   "source": [
    "# Question 2\n",
    "(25 points). Write a program that will do the following string formatting tasks:\n",
    "\n",
    "(1) Ask the user to enter two sentences.\n",
    "\n",
    "(2) Make each sentence into a list. Each element in the list should correspond to a word in the sentence. For example, if the sentence is \"Alas! Am I alive? This is my first python program\", the program should print out ['Alas, '!', 'Am', 'I', 'alive, '?', 'This', 'is', 'my', 'first', 'python', 'program'].\n",
    "\n",
    "(3) Compare the two sentences. Print out a list of words that occur in both sentences.\n",
    "\n",
    "(4) Remove any punctuation from the sentence and print it back out. It should remove at least the following characters, but it can remove more: period(“.”), comma (“,”), semicolon (“;”), and colon (“:”)\n",
    "\n",
    "(5) Count the number of vowels in the sentences. Print out each vowel and the number of times it appears in the sentences, such as: a:2, e:1, i:0, etc"
   ]
  },
  {
   "cell_type": "code",
   "execution_count": 5,
   "metadata": {
    "colab": {},
    "colab_type": "code",
    "id": "Y0oOSlsOS0cq"
   },
   "outputs": [
    {
     "name": "stdin",
     "output_type": "stream",
     "text": [
      "Enter two sentences.  Blah. Blah.\n"
     ]
    },
    {
     "name": "stdout",
     "output_type": "stream",
     "text": [
      "['Blah']\n",
      "{'a': 2, 'e': 0, 'i': 0, 'o': 0, 'u': 0}\n"
     ]
    }
   ],
   "source": [
    "import re\n",
    "import string\n",
    "\n",
    "#Question 2.1 \n",
    "input1 = input(\"Enter two sentences. \")\n",
    "\n",
    "#Question 2.2 & 2.4\n",
    "def cleanse(word):\n",
    "    for character in string.punctuation:\n",
    "        word = word.replace(character, \"\")\n",
    "    return word \n",
    "s1, s2 = re.split(r'\\?|\\.|\\!', input1)[:-1]\n",
    "sent1 = [cleanse(word) for word in s1.split()]\n",
    "sent2 = [cleanse(word) for word in s2.split()]\n",
    "\n",
    "#Question 2.3\n",
    "dups = [word for word in sent1 if word in sent2]\n",
    "print(dups)\n",
    "\n",
    "#Question 2.5\n",
    "def vowel_counter(string):\n",
    "    vowels = {\"a\":0,\"e\":0,\"i\":0,\"o\":0,\"u\":0}\n",
    "    for character in string:\n",
    "        if character in vowels:\n",
    "            vowels[character] = vowels[character] + 1\n",
    "            \n",
    "    return vowels\n",
    "                \n",
    "print(vowel_counter(input1))"
   ]
  },
  {
   "cell_type": "markdown",
   "metadata": {
    "colab_type": "text",
    "id": "CmFoI4jDS9nx"
   },
   "source": [
    "# Question 3 \n",
    "\n",
    "(15 points). The formula that describes the volume V of a sphere with radius r is the following:\n",
    "\n",
    "$ V=\\frac{4}{3}\\ast\\ \\pi\\ast\\ r^3 $\n",
    "\n",
    "Write a program to calculate the value of V when r is in the range of 1–10. Output the result in the following format:\n",
    "\n",
    "\tr\tV\n",
    "\t1\t…\n",
    "\t2\t…\n",
    "\t3\t…\n"
   ]
  },
  {
   "cell_type": "code",
   "execution_count": null,
   "metadata": {
    "colab": {},
    "colab_type": "code",
    "id": "pEyqeioAT95b"
   },
   "outputs": [],
   "source": [
    "\n",
    "import math\n",
    "\n",
    "r = 0\n",
    "\n",
    "def volume(r):\n",
    "    v = 4/3*math.pi*(r**3)\n",
    "    return v \n",
    "\n",
    "while r<=10:\n",
    "    print(r)\n",
    "    r = r + 1\n",
    "    print(volume(r))\n",
    "\n"
   ]
  },
  {
   "cell_type": "markdown",
   "metadata": {
    "colab_type": "text",
    "id": "z3tBE7E-Xn5X"
   },
   "source": [
    "# Question 4\n",
    "\n",
    "(40 points). In the field of Data Science, data is often formatted as a comma-delimited (CSV) file, where each line in a file corresponds to a field's value. Refer to Chapter 9 (p. 106) for more information on comma-delimited files. To answer this question, you will need to download the file [Assignment1_denton_housing.csv](https://github.com/unt-iialab/INFO5731_FALL2020/blob/master/Assignments/Assignment1_denton_housing.csv) included with this assignment. The [file Assignment1_denton_housing.csv](https://github.com/unt-iialab/INFO5731_FALL2020/blob/master/Assignments/Assignment1_denton_housing.csv) contains statistics about housing in the city of Denton from 2008 to 2014. Write a program to implement the following questions.\n",
    "\n",
    "(1) (10 pts) Calculate the difference in the number of Occupied Housing Units from year to year and print it. The difference must be calculated for the consecutive years such as 2008-2009, 2009-2010 etc. Finally, print the values in the ascending order.\n",
    "\n",
    "(2) (10 pts) For all the years, calculate the percentage of housing units which are vacant an occupied. Print the results in the following format:\n",
    "\n",
    "Year Vacant Housing Units Occupied Housing Units\n",
    "\n",
    "    2008  30%   70%                          \n",
    "\t2009 ----- -----\n",
    "\t2010 ----- -----\n",
    "    2011 ----- -----\n",
    "\t2012 ----- -----\n",
    "    2013 ----- -----\n",
    "\t2014 ----- -----\n",
    "  \n",
    "  \n",
    "\n",
    "(3) (10 pts) Calculate and print the valued and years in which the highest number of housing units were vacant and occupied. Print the results in the following format:  \n",
    "\n",
    "                              Year\tValue\n",
    "\tVacant Housing Units\t  -----   -----\n",
    "\tOccupied Housing Units\t-----   -----\n",
    "\n",
    "(4) (10 pts) Calculate the harmonic mean of the total housing units and print it out. You can find the information about harmonic mean here: https://ncalculators.com/statistics/harmonic-mean-calculator.htm"
   ]
  },
  {
   "cell_type": "code",
   "execution_count": null,
   "metadata": {
    "colab": {},
    "colab_type": "code",
    "id": "lqGYuHBhcsRH"
   },
   "outputs": [],
   "source": [
    "import pandas\n",
    "import scipy\n",
    "import scipy.stats\n",
    "\n",
    "#4.1\n",
    "data = pandas.read_csv(\"Assignment1_denton_housing.csv\")\n",
    "occupied_housing = data[data.title_field==\"Occupied Housing Units\"]\n",
    "occupied_housing.sort_values(by=\"year\",ascending=True,inplace=True)\n",
    "occupied_housing[\"prev_yr_diff\"] = occupied_housing.value.diff()\n",
    "occupied_housing.sort_values(by=\"year\",ascending=False,inplace=True)\n",
    "print(occupied_housing)\n",
    "\n",
    "#4.2\n",
    "housing_units = data[data.title_field.str.contains(\"Housing\")]\n",
    "pivoted = housing_units.pivot(index=\"year\", columns=\"title_field\", values=\"value\")\n",
    "pivoted[\"vacant\"] = pivoted[\"Vacant Housing Units\"] / pivoted[\"Total Housing Units\"]\n",
    "pivoted[\"occupied\"] = pivoted[\"Occupied Housing Units\"] / pivoted[\"Total Housing Units\"]\n",
    "results = pivoted[[\"occupied\", \"vacant\"]]\n",
    "results\n",
    "\n",
    "#4.3\n",
    "results.occupied.max()\n",
    "results.vacant.max()\n",
    "\n",
    "#4.4\n",
    "print(scipy.stats.hmean(housing_units[housing_units.title_field == \"Total Housing Units\"].value))"
   ]
  }
 ],
 "metadata": {
  "colab": {
   "collapsed_sections": [],
   "include_colab_link": true,
   "name": "INFO5731_Assignment_One.ipynb",
   "provenance": []
  },
  "kernelspec": {
   "display_name": "Python 3",
   "language": "python",
   "name": "python3"
  },
  "language_info": {
   "codemirror_mode": {
    "name": "ipython",
    "version": 3
   },
   "file_extension": ".py",
   "mimetype": "text/x-python",
   "name": "python",
   "nbconvert_exporter": "python",
   "pygments_lexer": "ipython3",
   "version": "3.9.0"
  }
 },
 "nbformat": 4,
 "nbformat_minor": 4
}
